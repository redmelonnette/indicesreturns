{
 "cells": [
  {
   "cell_type": "markdown",
   "metadata": {},
   "source": [
    "# Market Indices"
   ]
  },
  {
   "cell_type": "markdown",
   "metadata": {},
   "source": [
    "## The quest for better returns"
   ]
  },
  {
   "cell_type": "markdown",
   "metadata": {},
   "source": [
    "In 1973, Burton Malkiel published his infamous book *A Random Walk Down Wall Street*, criticizing most mutual funds were not beating the market indices over time, and inspired the wave of index based market investment ever since."
   ]
  },
  {
   "cell_type": "markdown",
   "metadata": {},
   "source": [
    "I like to be skeptical of things I hear. So I set on a path to look at the returns of the 3 most famous indices, S&P 500, Dow Jones, and NASDAQ, and their historical returns over time.\n"
   ]
  },
  {
   "cell_type": "markdown",
   "metadata": {},
   "source": [
    "## Historical Performance"
   ]
  },
  {
   "cell_type": "code",
   "execution_count": 106,
   "metadata": {
    "collapsed": false,
    "hideCode": true
   },
   "outputs": [],
   "source": [
    "import pandas as pd\n",
    "sp500Df = pd.read_csv('/Users/jess.zhang/Q2 2016 Hackday/s&p500.csv')\n",
    "sp500Df['Date'] = pd.to_datetime(sp500Df['Date'])\n",
    "sp500Df = sp500Df.set_index(['Date'])\n",
    "\n",
    "dowjonesDf = pd.read_csv('/Users/jess.zhang/Q2 2016 Hackday/dowjones.csv')\n",
    "dowjonesDf['Date'] = pd.to_datetime(dowjonesDf['Date'])\n",
    "dowjonesDf = dowjonesDf.set_index(['Date'])\n",
    "\n",
    "nasdaqDf = pd.read_csv('/Users/jess.zhang/Q2 2016 Hackday/nasdaq.csv')\n",
    "nasdaqDf['Date'] = pd.to_datetime(nasdaqDf['Date'])\n",
    "nasdaqDf = nasdaqDf.set_index(['Date'])\n",
    "\n",
    "indicesDf = pd.concat([sp500Df, dowjonesDf, nasdaqDf], axis = 1, join='inner')\n",
    "\n",
    "\n",
    "indices_hiDf = pd.concat([sp500Df['High'], dowjonesDf[' High'], nasdaqDf['High']], axis=1, join='inner')\n",
    "indices_hiDf.columns = ['S&P 500', 'Dow Jones', 'NASDAQ']\n",
    "\n",
    "indices_hichangeDf = pd.concat([(indices_hiDf['S&P 500']/indices_hiDf['S&P 500'][7353] - 1) * 100,\n",
    "                                (indices_hiDf['Dow Jones']/indices_hiDf['Dow Jones'][7353]  - 1) * 100,\n",
    "                                (indices_hiDf['NASDAQ']/indices_hiDf['NASDAQ'][7353] - 1) * 100],\n",
    "                                axis=1)"
   ]
  },
  {
   "cell_type": "code",
   "execution_count": 89,
   "metadata": {
    "collapsed": true,
    "hideCode": true
   },
   "outputs": [],
   "source": [
    "import numpy as np\n",
    "indices_dailyhiDf['Day'] = np.arange(len(indices_dailyhiDf))\n",
    "indices_dailyhiDf['Return'] = indices_dailyhiDf['S&P 500']/indices_dailyhiDf['S&P 500'][1]"
   ]
  },
  {
   "cell_type": "code",
   "execution_count": 107,
   "metadata": {
    "collapsed": false,
    "hideCode": true
   },
   "outputs": [
    {
     "data": {
      "text/html": [
       "<div>\n",
       "<table border=\"1\" class=\"dataframe\">\n",
       "  <thead>\n",
       "    <tr style=\"text-align: right;\">\n",
       "      <th></th>\n",
       "      <th>S&amp;P 500</th>\n",
       "      <th>Dow Jones</th>\n",
       "      <th>NASDAQ</th>\n",
       "    </tr>\n",
       "    <tr>\n",
       "      <th>Date</th>\n",
       "      <th></th>\n",
       "      <th></th>\n",
       "      <th></th>\n",
       "    </tr>\n",
       "  </thead>\n",
       "  <tbody>\n",
       "    <tr>\n",
       "      <th>1987-02-06</th>\n",
       "      <td>1.600866</td>\n",
       "      <td>0.897147</td>\n",
       "      <td>2.542793</td>\n",
       "    </tr>\n",
       "    <tr>\n",
       "      <th>1987-02-05</th>\n",
       "      <td>1.770328</td>\n",
       "      <td>1.352103</td>\n",
       "      <td>2.291031</td>\n",
       "    </tr>\n",
       "    <tr>\n",
       "      <th>1987-02-04</th>\n",
       "      <td>0.829273</td>\n",
       "      <td>0.217905</td>\n",
       "      <td>1.510574</td>\n",
       "    </tr>\n",
       "    <tr>\n",
       "      <th>1987-02-03</th>\n",
       "      <td>0.173060</td>\n",
       "      <td>0.346003</td>\n",
       "      <td>0.553873</td>\n",
       "    </tr>\n",
       "    <tr>\n",
       "      <th>1987-02-02</th>\n",
       "      <td>0.000000</td>\n",
       "      <td>0.000000</td>\n",
       "      <td>0.000000</td>\n",
       "    </tr>\n",
       "  </tbody>\n",
       "</table>\n",
       "</div>"
      ],
      "text/plain": [
       "             S&P 500  Dow Jones    NASDAQ\n",
       "Date                                     \n",
       "1987-02-06  1.600866   0.897147  2.542793\n",
       "1987-02-05  1.770328   1.352103  2.291031\n",
       "1987-02-04  0.829273   0.217905  1.510574\n",
       "1987-02-03  0.173060   0.346003  0.553873\n",
       "1987-02-02  0.000000   0.000000  0.000000"
      ]
     },
     "execution_count": 107,
     "metadata": {},
     "output_type": "execute_result"
    }
   ],
   "source": [
    "indices_hichangeDf.tail()"
   ]
  },
  {
   "cell_type": "code",
   "execution_count": 84,
   "metadata": {
    "collapsed": true,
    "hideCode": true
   },
   "outputs": [],
   "source": [
    "import plotly.tools as tls\n",
    "tls.set_credentials_file(username='zjzhang', api_key='tj3kx9k9tu')"
   ]
  },
  {
   "cell_type": "code",
   "execution_count": 108,
   "metadata": {
    "collapsed": false,
    "hideCode": true
   },
   "outputs": [
    {
     "data": {
      "text/html": [
       "<iframe id=\"igraph\" scrolling=\"no\" style=\"border:none;\" seamless=\"seamless\" src=\"https://plot.ly/~zjzhang/5.embed\" height=\"587px\" width=\"1116px\"></iframe>"
      ],
      "text/plain": [
       "<plotly.tools.PlotlyDisplay object>"
      ]
     },
     "execution_count": 108,
     "metadata": {},
     "output_type": "execute_result"
    }
   ],
   "source": [
    "import plotly.plotly as py\n",
    "import cufflinks as cf\n",
    "\n",
    "indices_hichangeDf.iplot(kind='line', fill=True, filename='cufflinks/indices_hichange')"
   ]
  },
  {
   "cell_type": "code",
   "execution_count": null,
   "metadata": {
    "collapsed": true
   },
   "outputs": [],
   "source": []
  }
 ],
 "metadata": {
  "celltoolbar": "Hide code",
  "kernelspec": {
   "display_name": "Python 2",
   "language": "python",
   "name": "python2"
  },
  "language_info": {
   "codemirror_mode": {
    "name": "ipython",
    "version": 2
   },
   "file_extension": ".py",
   "mimetype": "text/x-python",
   "name": "python",
   "nbconvert_exporter": "python",
   "pygments_lexer": "ipython2",
   "version": "2.7.11"
  }
 },
 "nbformat": 4,
 "nbformat_minor": 0
}
